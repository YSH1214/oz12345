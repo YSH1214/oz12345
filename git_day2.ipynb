{
 "cells": [
  {
   "cell_type": "markdown",
   "metadata": {},
   "source": [
    "Day_2\n",
    "\n",
    "[이전 commit을 되돌아가기]\n",
    "- reset : 원하시는 commit 이력으로 이동하고 그 위에 있는 이력들은 모두 삭제됨\n",
    "    1. git log 또는 git log --oneline을 이용해 되돌아가고 싶은 commit 이력의 해시값 확인\n",
    "    2. git reset --hard 해시값 / git reset --soft 해시값 중 하나를 선택해서 입력<br>\n",
    "       mixed같은 경우는 기본값으로 설정되어 있기 때문에 git reset 해시값으로 입력 시 적용됨\n",
    "    3. vim 화면이 노출되는 경우 상단의 커밋 메시지 확인 후 shift+;를 눌러 명령어 입력모드로 전환 후 wq 입력\n",
    "    4. reset 명령어가 정상적으로 실행되었다면 다시 한번 git log 또는 git log --oneline으로 결과를 확인\n",
    "\n",
    "- revert : 특정 commit 이력(파일 추가 또는 삭제, 코드 변경 및 추가 등의 작업)을 되돌리고 싶을때 사용\n",
    "    1. git log 또는 git log --oneline을 이용해 되돌아가고 싶은 commit 이력의 해시값 확인\n",
    "    2. git revert 해시값을 입력해 되돌리고 싶은 commit 이력을 되돌림\n",
    "    3. vim 화면이 노출되는 경우 상단의 커밋 메시지 확인 후 shift+;를 눌러 명령어 입력모드로 전환 후 wq 입력\n",
    "\n",
    "[branch 활용하기]\n",
    "- branch : 별도의 작업공간을 만들 수 있는 기능, 위치해 있는 branch에서 새로운 branch 생성 시<br>\n",
    " 현재 위치한 브랜치의 모든 정보를 복사해서 가져감\n",
    "    1. 현재 위치해 있는 브랜치 또는 생성된 브랜치를 확인을 먼저 진행\n",
    "        - git branch\n",
    "    2. 새로운 브랜치 생성\n",
    "        - git branch 브랜치명\n",
    "    3. 생성한 브랜치로 이동\n",
    "        - git switch 생성한 브랜치명`\n",
    "    4. 브랜치를 생성하고 바로 이동\n",
    "        - git switch -c 브랜치명\n",
    "    5. 브랜치 삭제하기\n",
    "        - git branch -D 브랜치명\n",
    "    6. 브랜치 이름 변경하기\n",
    "        - git branch -m 기존브랜치명 새로운브랜치명\n",
    "\n",
    "\n",
    "[branch 합치기]\n",
    "- merge : branch의 commit 이력을 가져와 합치는 명령어로 합치고자하는 branch의 이력이 남아있는 것이 특징\n",
    "    1. 진행중인 프로젝트의 메인 코드가 있는 branch로 이동 (예:git switch main)\n",
    "    2. 가져올 commit 이력이 있는 branch명을 확인\n",
    "    3. 다음 명령어를 이용해 합치기를 진행 -> git merge 브랜치명\n",
    "    4. vim 화면이 노출되는 경우 상단의 커밋 메시지 확인 후 shift+;를 눌러 명령어 입력모드로 전환 후 wq 입력\n",
    "    5. git log 또는 git log --oneline을 이용해 merge가 잘되었는지 확인\n",
    "\n",
    "- rebase : merge 기능과 마찬가지로 branch의 commit 이력을 가져와 합치는 명령어, 단 합치고자 한 branch의 이력이 남지 않음\n",
    "    1. 합치고자 하는 브랜치로 이동 -> git switch 명령어 이용\n",
    "    2. 이동한 브랜치에서 진행중인 프로젝트의 메인 코드가 있는 branch에 rebase 명령어로 commit 이력 전달\n",
    "    3. commit 이력이 잘 전달되었다면 메인 코드가 있는 branch로 이동 -> git switch 명령어 이용\n",
    "    4. 이동한 브랜치에서 rebase 명령어를 입력한 브랜치를 merge를 이용해 합치기 -> git merge 브랜치명\n",
    "    5. vim 화면이 노출되는 경우 상단의 커밋 메시지 확인 후 shift+;를 눌러 명령어 입력모드로 전환 후 wq 입력\n",
    "    6. git log 또는 git log --oneline을 이용해 merge가 잘되었는지 확인"
   ]
  },
  {
   "cell_type": "markdown",
   "metadata": {},
   "source": []
  }
 ],
 "metadata": {
  "language_info": {
   "name": "python"
  }
 },
 "nbformat": 4,
 "nbformat_minor": 2
}
